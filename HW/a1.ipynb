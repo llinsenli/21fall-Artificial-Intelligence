{
 "cells": [
  {
   "cell_type": "markdown",
   "id": "5f5c0b3d",
   "metadata": {},
   "source": [
    "# Assignment 1\n",
    "\n",
    "\n",
    "In this assignment, we will explore agents that can (1) find paths through a maze and (2) play TicTacToe.\n",
    "\n",
    "There are a mix of <font color=\"blue\">Implementation</font> cells, where you are to fill in the code for a function, as well as <font color=\"blue\">Question</font> cells, where you are to complete short answer questions.\n",
    "\n",
    "<br><br>\n",
    "\n",
    "## <font color=\"blue\">Path finding</font>\n",
    "\n",
    "For the first part of this assignment, you'll implement several search algorithms for an agent to search a maze.\n",
    "\n",
    "In the cell below, we have given the implementaiton of a `Board` class, which provides a few capabilities:\n",
    "\n",
    "- It tracks which spaces have been explored.\n",
    "- `shortest_path` is a dict that keeps track of the number of steps in the shorts path to reach a cell, based on the spaces that have been explored so far. \n",
    "- The `parent_of` dict keeps track of the `parent` of each space, which is the location of the preceding cell in the shortest path found so far.\n",
    "- Using python [decorators](https://wiki.python.org/moin/PythonDecorators), we count how often each method is called, for getting empirical estimates of efficiency.\n",
    "- Simple ascii animation of the search progress."
   ]
  },
  {
   "cell_type": "code",
   "execution_count": 1,
   "id": "04476c97",
   "metadata": {},
   "outputs": [
    {
     "name": "stdout",
     "output_type": "stream",
     "text": [
      "  .  .  .  .  .  .  .  .  .  .\n",
      "  .  .  .  O  O  O  O  .  .  .\n",
      "  .  .  .  .  .  .  O  .  .  .\n",
      "  >  .  .  .  .  .  O  .  .  .\n",
      "  .  .  .  .  .  .  O  .  .  .\n",
      "  .  .  .  O  O  O  O  .  .  .\n",
      "  .  .  .  .  .  .  .  $  .  .\n"
     ]
    }
   ],
   "source": [
    "from IPython.display import clear_output\n",
    "from collections import Counter, defaultdict\n",
    "import math\n",
    "import time\n",
    "    \n",
    "# Constants to represent what can be in each space.\n",
    "EMPTY = '  .'     # space that has not yet been explored and is not a wall, goal, or start space\n",
    "WALL = '  O'      # space that the robot can not pass through\n",
    "EXPLORED = '  *'  # indicates that the robot has visited this space\n",
    "GOAL = '  $'      # the goal\n",
    "START = '  >'     # where the robot starts\n",
    "\n",
    "def count_calls(fn):\n",
    "    \"\"\"\n",
    "    Decorator function for counting how often each \n",
    "    function is called in the Board class.\n",
    "    More info at https://stackoverflow.com/a/11731208\n",
    "    No need to worry about how this works at the moment.\n",
    "    \"\"\"\n",
    "    def _counting(*args, **kwargs):\n",
    "        args[0].call_counts[fn.__name__] += 1\n",
    "        return fn(*args, **kwargs)\n",
    "    return _counting\n",
    "\n",
    "class Board:\n",
    "    def __init__(self, rows, cols, start_location,\n",
    "                 goal_location, wall_locations, animate=True):\n",
    "        self.rows, self.cols = rows, cols\n",
    "        self.goal_location, self.start_location = goal_location, start_location\n",
    "        self.cells = [[EMPTY] * cols for j in range(rows)]\n",
    "        for x,y in wall_locations:\n",
    "            self.cells[x][y] = WALL\n",
    "        self.cells[goal_location[0]][goal_location[1]] = GOAL\n",
    "        self.cells[start_location[0]][start_location[1]] = START\n",
    "        self.call_counts = Counter()\n",
    "        self.animate = animate\n",
    "        self.parent_of = defaultdict(lambda: math.inf)\n",
    "        self.shortest_path = defaultdict(lambda: math.inf)\n",
    "        self.shortest_path[None] = -1\n",
    "        \n",
    "    def neighbors(self, location):\n",
    "        \"\"\"\n",
    "        Return list of legal neighbor locations.\n",
    "        Assumes we can move NESW.\n",
    "        \"\"\"\n",
    "        result = []\n",
    "        for (x_move, y_move) in [(-1,0), (0,1), (1,0), (0,-1)]:\n",
    "            new_location = (location[0] + x_move, location[1] + y_move)\n",
    "            if self.legal_location(new_location):\n",
    "                result.append(new_location)\n",
    "        return result\n",
    "\n",
    "    @count_calls\n",
    "    def found_goal(self):\n",
    "        \"\"\"\n",
    "        Return True if the goal_location has been explored\n",
    "        \"\"\"        \n",
    "        return self.cells[self.goal_location[0]][self.goal_location[1]] == EXPLORED\n",
    "    \n",
    "    @count_calls\n",
    "    def legal_location(self, location):\n",
    "        \"\"\"\n",
    "        Is this location in bounds and not a wall?\n",
    "        \"\"\"\n",
    "        return (location[0] >= 0 and location[0] < self.rows and\n",
    "                location[1] >= 0 and location[1] < self.cols and\n",
    "                self.cells[location[0]][location[1]] != WALL)\n",
    "    \n",
    "    @count_calls\n",
    "    def explore(self, location, parent):\n",
    "        \"\"\"\n",
    "        Explore this location and update its shortest path.\n",
    "        Optionally animate the board.\n",
    "        \"\"\"\n",
    "        self.cells[location[0]][location[1]] = EXPLORED\n",
    "        new_cost = self.shortest_path[parent] + 1\n",
    "        if new_cost < self.shortest_path[location]:\n",
    "            self.shortest_path[location] = new_cost\n",
    "            self.parent_of[location] = parent\n",
    "        if self.animate:\n",
    "            clear_output(wait=True)\n",
    "            self.draw()\n",
    "            time.sleep(.1)\n",
    "\n",
    "    @count_calls\n",
    "    def is_explored(self, location):\n",
    "        \"\"\"\n",
    "        return True if this location has been explored\n",
    "        \"\"\"\n",
    "        return self.cells[location[0]][location[1]] == EXPLORED\n",
    "        \n",
    "    @count_calls\n",
    "    def draw(self):\n",
    "        \"\"\"\n",
    "        draw the board\n",
    "        \"\"\"\n",
    "        for i in range(self.rows):\n",
    "            print(''.join(self.cells[i]))\n",
    "            \n",
    "    def call_stats(self):\n",
    "        \"\"\"\n",
    "        Print the number of times each method has been called.\n",
    "        \"\"\"\n",
    "        print('\\n'.join('%20s\\t%d' % (k, v) for k, v in self.call_counts.most_common()))\n",
    "        count = 0\n",
    "        for r in self.cells:\n",
    "            for c in r:\n",
    "                if c == EXPLORED:\n",
    "                    count += 1                    \n",
    "        print('explored %d cells' % count)\n",
    "        \n",
    "    def draw_best_path(self):\n",
    "        \"\"\"\n",
    "        Draw the shortest path found from start to goal location.\n",
    "        Assumes goal has been found.\n",
    "        \"\"\"\n",
    "        node = self.goal_location\n",
    "        cost = self.shortest_path[node]\n",
    "        while node is not None:\n",
    "            self.cells[node[0]][node[1]] = '%3d' % cost\n",
    "            cost -= 1\n",
    "            node = self.parent_of[node]\n",
    "        self.draw()\n",
    "\n",
    "def example_board():    \n",
    "    return Board(rows=7,\n",
    "                 cols=10,\n",
    "                 start_location=(3,0), \n",
    "                 goal_location=(6,7),\n",
    "                 wall_locations=[(1,3), (1,4), (1,5), (1,6), (2,6), (3,6), (4,6), (5,3), (5,4), (5,5), (5,6)])\n",
    "board = example_board()\n",
    "board.draw()"
   ]
  },
  {
   "cell_type": "markdown",
   "id": "54b477fe",
   "metadata": {},
   "source": [
    "Here is a very simple, very bad example of a search algorithm that uses the `Board` class. It randomly chooses a neighboring location to explore until it finds the goal. This may take a bit to run, depending on how lucky its random guesses are.\n",
    "\n",
    "Note that we set the parent of the start node to `None`."
   ]
  },
  {
   "cell_type": "code",
   "execution_count": 2,
   "id": "14fffb2a",
   "metadata": {},
   "outputs": [
    {
     "name": "stdout",
     "output_type": "stream",
     "text": [
      "  *  *  *  *  *  *  *  *  *  *\n",
      "  .  *  *  O  O  O  O  *  *  *\n",
      "  .  *  .  .  .  .  O  *  *  *\n",
      "  *  *  .  .  .  .  O  *  *  *\n",
      "  .  .  .  .  .  .  O  .  *  *\n",
      "  .  .  .  O  O  O  O  *  *  .\n",
      "  .  .  .  .  .  .  .  *  .  .\n",
      "      legal_location\t484\n",
      "          found_goal\t122\n",
      "             explore\t121\n",
      "                draw\t121\n",
      "explored 29 cells\n"
     ]
    }
   ],
   "source": [
    "import random\n",
    "\n",
    "def random_search(board):\n",
    "    random.seed(1234)\n",
    "    location = board.start_location\n",
    "    parent = None\n",
    "    while not board.found_goal():\n",
    "        board.explore(location, parent)\n",
    "        parent = location\n",
    "        location = random.choice(board.neighbors(location))\n",
    "\n",
    "board = example_board()\n",
    "# you can turn off animation to just skip to the end of the search.\n",
    "# board.animate = False\n",
    "random_search(board)\n",
    "board.call_stats()"
   ]
  },
  {
   "cell_type": "markdown",
   "id": "8f222a29",
   "metadata": {},
   "source": [
    "Two things we are interested in are:\n",
    "- the total number of spaces explored (indicated by the \"*\" symbols)\n",
    "- the length of the shortest path found from start to goal"
   ]
  },
  {
   "cell_type": "code",
   "execution_count": 3,
   "id": "672deb86",
   "metadata": {},
   "outputs": [
    {
     "name": "stdout",
     "output_type": "stream",
     "text": [
      "  *  4  5  6  7  8  9 10  *  *\n",
      "  .  3  *  O  O  O  O 11  *  *\n",
      "  .  2  .  .  .  .  O 12 13  *\n",
      "  0  1  .  .  .  .  O  * 14  *\n",
      "  .  .  .  .  .  .  O  . 15  *\n",
      "  .  .  .  O  O  O  O 17 16  .\n",
      "  .  .  .  .  .  .  . 18  .  .\n"
     ]
    }
   ],
   "source": [
    "board.draw_best_path()"
   ]
  },
  {
   "cell_type": "markdown",
   "id": "e6762ce2",
   "metadata": {},
   "source": [
    "<br><br>\n",
    "\n",
    "<hr>\n",
    "\n",
    "### <font color=\"blue\">Question</font>\n",
    "\n",
    "Sometimes it seems as if the search is paused (no stars are appearing). What is happening here?\n",
    "\n",
    "<hr>\n",
    "\n",
    "<br><br>"
   ]
  },
  {
   "cell_type": "markdown",
   "id": "860c7252",
   "metadata": {},
   "source": [
    "**answer here**\n",
    "Because it randomly chooses a neighboring location. Then,there is probability 1/8 that the point will go back to the parent and then go back to this point. Just like it jump between two points in cycle. In the graph it sounds like the search is paused (no stars are appearing). \n",
    "<br><br><br><br>\n"
   ]
  },
  {
   "cell_type": "markdown",
   "id": "a67dddbe",
   "metadata": {},
   "source": [
    "<br><br>\n",
    "\n",
    "<hr>\n",
    "\n",
    "### <font color=\"blue\">Implementation</font>\n",
    "\n",
    "Implement depth first search in the `dfs` method below. You may choose to do so recursively or iteratively. Be sure to call the `board.explore` function when nodes are encountered in order to display progress and update the shortest paths.\n",
    "\n",
    "Be sure to do *graph search* so we don't have any infinite loops.\n",
    "\n",
    "Here is an example of what my implementation outputs, though yours may differ:\n",
    "\n",
    "```\n",
    "  *  *  *  *  *  *  *  *  *  *\n",
    "  *  .  .  O  O  O  O  *  *  *\n",
    "  *  .  .  .  .  .  O  *  *  *\n",
    "  *  .  .  .  .  .  O  *  *  *\n",
    "  .  .  .  .  .  .  O  *  *  *\n",
    "  .  .  .  O  O  O  O  *  *  *\n",
    "  .  .  .  .  .  .  .  *  *  *\n",
    "      legal_location\t124\n",
    "         is_explored\t51\n",
    "          found_goal\t50\n",
    "             explore\t31\n",
    "                draw\t31\n",
    "explored 31 cells                \n",
    "  3  4  5  6  7  8  9 10 11 12\n",
    "  2  .  .  O  O  O  O 25 24 13\n",
    "  1  .  .  .  .  .  O 26 23 14\n",
    "  0  .  .  .  .  .  O 27 22 15\n",
    "  .  .  .  .  .  .  O 28 21 16\n",
    "  .  .  .  O  O  O  O 29 20 17\n",
    "  .  .  .  .  .  .  . 30 19 18\n",
    "```"
   ]
  },
  {
   "cell_type": "code",
   "execution_count": 4,
   "id": "c455dc94",
   "metadata": {},
   "outputs": [
    {
     "name": "stdout",
     "output_type": "stream",
     "text": [
      "  .  .  *  *  *  *  *  *  *  *\n",
      "  .  .  *  O  O  O  O  *  *  *\n",
      "  *  *  *  .  .  .  O  *  *  *\n",
      "  *  .  .  .  .  .  O  *  *  *\n",
      "  .  .  .  .  .  .  O  *  *  .\n",
      "  .  .  .  O  O  O  O  *  *  .\n",
      "  .  .  .  .  .  .  .  *  .  .\n",
      "      legal_location\t108\n",
      "          found_goal\t28\n",
      "             explore\t27\n",
      "                draw\t27\n",
      "explored 27 cells\n",
      "  .  .  5  6  7  8  9 10  *  *\n",
      "  .  .  4  O  O  O  O 11 14 15\n",
      "  1  2  3  .  .  .  O 12 13 16\n",
      "  0  .  .  .  .  .  O  * 18 17\n",
      "  .  .  .  .  .  .  O  * 19  .\n",
      "  .  .  .  O  O  O  O 21 20  .\n",
      "  .  .  .  .  .  .  . 22  .  .\n"
     ]
    }
   ],
   "source": [
    "def depth_first_search(board):\n",
    "    location = board.start_location\n",
    "    parent = None\n",
    "    visited, stack = set(), [(location, parent)]\n",
    "    while not board.found_goal() and stack:\n",
    "        location, parent = stack.pop()\n",
    "        if location not in visited:\n",
    "            board.explore(location, parent)\n",
    "            parent = location\n",
    "            \n",
    "            visited.add(location)\n",
    "            stack.extend([(loc,parent) for loc in (set(board.neighbors(location))-visited)])\n",
    "            \n",
    "board = example_board()\n",
    "depth_first_search(board)\n",
    "board.call_stats()\n",
    "board.draw_best_path()"
   ]
  },
  {
   "cell_type": "code",
   "execution_count": null,
   "id": "cca8c16e",
   "metadata": {},
   "outputs": [],
   "source": []
  },
  {
   "cell_type": "code",
   "execution_count": null,
   "id": "a2b60290",
   "metadata": {},
   "outputs": [],
   "source": []
  },
  {
   "cell_type": "markdown",
   "id": "6494dad1",
   "metadata": {},
   "source": [
    "<br><br>\n",
    "\n",
    "<hr>\n",
    "\n",
    "### <font color=\"blue\">Implementation</font>\n",
    "\n",
    "Implement breadth first search below. Here is an example of what my implementation outputs, though yours may differ:\n",
    "\n",
    "```\n",
    "  *  *  *  *  *  *  *  *  .  .\n",
    "  *  *  *  O  O  O  O  .  .  .\n",
    "  *  *  *  *  *  *  O  .  .  .\n",
    "  *  *  *  *  *  *  O  .  .  .\n",
    "  *  *  *  *  *  *  O  .  .  .\n",
    "  *  *  *  O  O  O  O  .  .  .\n",
    "  *  *  *  *  *  *  *  *  .  .\n",
    "         is_explored\t173\n",
    "      legal_location\t156\n",
    "             explore\t40\n",
    "                draw\t40\n",
    "          found_goal\t40\n",
    "explored 40 cells          \n",
    "  *  *  *  *  *  *  *  *  .  .\n",
    "  *  *  *  O  O  O  O  .  .  .\n",
    "  *  *  *  *  *  *  O  .  .  .\n",
    "  0  1  2  *  *  *  O  .  .  .\n",
    "  *  *  3  *  *  *  O  .  .  .\n",
    "  *  *  4  O  O  O  O  .  .  .\n",
    "  *  *  5  6  7  8  9 10  .  .\n",
    "```\n"
   ]
  },
  {
   "cell_type": "code",
   "execution_count": null,
   "id": "513f661c",
   "metadata": {},
   "outputs": [],
   "source": []
  },
  {
   "cell_type": "code",
   "execution_count": 63,
   "id": "2fe5ce34",
   "metadata": {},
   "outputs": [
    {
     "name": "stdout",
     "output_type": "stream",
     "text": [
      "  *  *  *  *  *  *  *  *  .  .\n",
      "  *  *  *  O  O  O  O  .  .  .\n",
      "  *  *  *  *  *  *  O  .  .  .\n",
      "  *  *  *  *  *  *  O  .  .  .\n",
      "  *  *  *  *  *  *  O  .  .  .\n",
      "  *  *  *  O  O  O  O  .  .  .\n",
      "  *  *  *  *  *  *  *  *  .  .\n",
      "      legal_location\t160\n",
      "          found_goal\t59\n",
      "             explore\t40\n",
      "                draw\t40\n",
      "explored 40 cells\n",
      "  *  *  *  *  *  *  *  *  .  .\n",
      "  *  *  *  O  O  O  O  .  .  .\n",
      "  *  *  *  *  *  *  O  .  .  .\n",
      "  0  1  2  *  *  *  O  .  .  .\n",
      "  *  *  3  *  *  *  O  .  .  .\n",
      "  *  *  4  O  O  O  O  .  .  .\n",
      "  *  *  5  6  7  8  9 10  .  .\n"
     ]
    }
   ],
   "source": [
    "from collections import deque\n",
    "\n",
    "def breadth_first_search(board):\n",
    "    location = board.start_location\n",
    "    parent = None\n",
    "    visited, queue = set(), [(location, parent)]\n",
    "    while not board.found_goal() and queue:\n",
    "        location, parent = queue.pop(0)  # The only different is we use queue, means we pick the first element in queue\n",
    "        if location not in visited:\n",
    "            board.explore(location, parent)\n",
    "            parent = location\n",
    "            \n",
    "            visited.add(location)\n",
    "            queue.extend([(loc,parent) for loc in (set(board.neighbors(location))-visited)])\n",
    "            \n",
    "board = example_board()\n",
    "breadth_first_search(board)\n",
    "board.call_stats()\n",
    "board.draw_best_path()"
   ]
  },
  {
   "cell_type": "markdown",
   "id": "31188c3b",
   "metadata": {},
   "source": [
    "<br><br>\n",
    "\n",
    "<hr>\n",
    "\n",
    "### <font color=\"blue\">Question</font>\n",
    "\n",
    "Is `bfs` guaranteed to find the optimal (shortest) path? Why or why not?\n",
    "\n",
    "<hr>\n",
    "<br><br>\n"
   ]
  },
  {
   "cell_type": "markdown",
   "id": "cfba5fca",
   "metadata": {},
   "source": [
    "**answer here**\n",
    "We say that BFS is the algorithm to use if we want to find the shortest path in an undirected, unweighted graph. The claim for BFS is that the first time a node is discovered during the traversal, that distance from the source would give us the shortest path.With a weighted graph, the first discovery of a node during traversal does not guarantee the shortest path for that node. Breadth first search has no way of knowing if a particular discovery of a node would give us the shortest path to that node. And so, the only possible way for BFS (or DFS) to find the shortest path in a weighted graph is to search the entire graph and keep recording the minimum distance from source to the destination vertex.\n",
    "<br><br><br><br>\n",
    "\n",
    "\n",
    "\n",
    "\n",
    "\n",
    "\n",
    "\n"
   ]
  },
  {
   "cell_type": "markdown",
   "id": "da36178a",
   "metadata": {},
   "source": [
    "<br><br>\n",
    "\n",
    "<hr>\n",
    "\n",
    "### <font color=\"blue\">Question</font>\n",
    "\n",
    "How do the memory requirements of dfs and bfs differ?\n",
    "\n",
    "<hr>\n",
    "<br><br>\n"
   ]
  },
  {
   "cell_type": "markdown",
   "id": "1950c9c8",
   "metadata": {},
   "source": [
    "**answer here**\n",
    "BFS uses a larger amount of memory because it expands all children of a vertex and keeps them in memory. It stores the pointers to a level’s child nodes while searching each level to remember where it should go when it reaches a leaf node. DFS has much lower memory requirements than BFS because it iteratively expands only one child until it cannot proceed anymore and backtracks thereafter. It has to remember a single path with unexplored nodes.\n",
    "<br><br><br><br>\n",
    "\n",
    "\n",
    "\n",
    "\n",
    "\n",
    "\n",
    "\n"
   ]
  },
  {
   "cell_type": "markdown",
   "id": "6377befe",
   "metadata": {},
   "source": [
    "Next, we'll look at greedy and A* search algorithms. To implement these, we need to prioritize the order in which we explore nodes. We'll use the priority queue implementation below to do so. While a traditional priority queue would be implemented with a heap, because we often need to update previously inserted items, we will instead use a dict. This allows us to quickly see if an item already exists, but the tradeoff is that we spend more time finding the highest priority item each time we call `get`. There are more efficient ways to do this, but this will suffice for our purposes.\n"
   ]
  },
  {
   "cell_type": "code",
   "execution_count": 28,
   "id": "1c5f2978",
   "metadata": {},
   "outputs": [
    {
     "name": "stdout",
     "output_type": "stream",
     "text": [
      "(1, 'd')\n",
      "(2, 'c')\n",
      "(3, 'b')\n"
     ]
    }
   ],
   "source": [
    "class PriorityQueue:\n",
    "    def __init__(self):\n",
    "        # Dict from item to priority.\n",
    "        # Smaller values mean higher priority\n",
    "        self.d = {}\n",
    "        \n",
    "    def push(self, priority, item):\n",
    "        \"\"\"\n",
    "        Add this item with the given priority.\n",
    "        If the item already exists, update it if the new\n",
    "        priority is higher than the old priority (lower value).\n",
    "        \"\"\"\n",
    "        if item not in self.d or priority < self.d[item]:\n",
    "            self.d[item] = priority\n",
    "        \n",
    "    def get(self):\n",
    "        \"\"\"\n",
    "        Remove and return the (priority, item) with the highest priority (smallest value).\n",
    "        \"\"\"\n",
    "        r = min(self.d.items(), key=lambda i: i[1])\n",
    "        del self.d[r[0]]\n",
    "        return (r[1], r[0])\n",
    "        \n",
    "    def empty(self):\n",
    "        return len(self.d) == 0    \n",
    "    \n",
    "q = PriorityQueue()\n",
    "q.push(2, 'd')\n",
    "q.push(2, 'c')\n",
    "q.push(3, 'b')\n",
    "q.push(1, 'd') # overwrites the previous (2, 'd') call.\n",
    "q.push(4, 'b') # ignored because of (3, 'b')\n",
    "\n",
    "while not q.empty():\n",
    "    print(q.get())\n"
   ]
  },
  {
   "cell_type": "code",
   "execution_count": null,
   "id": "83aea1b6",
   "metadata": {},
   "outputs": [],
   "source": []
  },
  {
   "cell_type": "code",
   "execution_count": 37,
   "id": "083c46af",
   "metadata": {},
   "outputs": [
    {
     "name": "stdout",
     "output_type": "stream",
     "text": [
      "((2, 1), 'c')\n",
      "((2, 2), 'd')\n"
     ]
    }
   ],
   "source": [
    "# we can add tie breakers by making the priority a tuple, where the second value \n",
    "# is used to break ties.\n",
    "q = PriorityQueue()\n",
    "q.push((2, 2), 'd')\n",
    "q.push((2, 1), 'c')\n",
    "\n",
    "while not q.empty():\n",
    "    print(q.get())"
   ]
  },
  {
   "cell_type": "markdown",
   "id": "27e120fd",
   "metadata": {},
   "source": [
    "<br><br>\n",
    "\n",
    "<hr>\n",
    "\n",
    "### <font color=\"blue\">Question</font>\n",
    "\n",
    "What is the worst-case, Big Oh time complexity of the `push` and `get` implementations above?\n",
    "\n",
    "<hr>\n",
    "<br><br>\n"
   ]
  },
  {
   "cell_type": "markdown",
   "id": "9518db4d",
   "metadata": {},
   "source": [
    "**answer here**\n",
    "In the Priority Queue, for the enqueue part, every time we insert a new element, we need to sort the elements. That’s O(n log n). For the dequeue part, Dequeue removes elements from the PQ. We need to find the element with the highest priority and then return that. The highest number will be first element, so that’s O(1) operation. However, we need to move the rest of the elements to fill the gap. That’s O(n).So, the Big Oh time complexity of the push and get are O(1) and O(n).\n",
    "<br><br><br><br>\n",
    "\n",
    "\n",
    "\n",
    "\n",
    "\n",
    "\n",
    "\n"
   ]
  },
  {
   "cell_type": "markdown",
   "id": "334d4b38",
   "metadata": {},
   "source": [
    "<br><br>\n",
    "\n",
    "<hr>\n",
    "\n",
    "### <font color=\"blue\">Implementation</font>\n",
    "\n",
    "A simple heuristic to prioritize locations is the `manhattan distance` from the location to the goal state, which is the number of moves to get to the goal state using the four directions we have. This is a type of **informed search**, since we have the additional information about where the goal is.\n",
    "\n",
    "Implement this distance function below, given two location tuples."
   ]
  },
  {
   "cell_type": "code",
   "execution_count": null,
   "id": "2ea0cf55",
   "metadata": {},
   "outputs": [],
   "source": []
  },
  {
   "cell_type": "code",
   "execution_count": 34,
   "id": "af28f0cb",
   "metadata": {},
   "outputs": [
    {
     "data": {
      "text/plain": [
       "10"
      ]
     },
     "execution_count": 34,
     "metadata": {},
     "output_type": "execute_result"
    }
   ],
   "source": [
    "def manhattan_distance(loc1, loc2):\n",
    "    \"\"\"\n",
    "    Return the manhattan distance between the two given locations. Each location\n",
    "    is a (x,y) tuple.\n",
    "    \"\"\"\n",
    "    ### TODO\n",
    "    return abs(loc1[0]-loc2[0]) + abs(loc1[1]-loc2[1])\n",
    "    pass\n",
    "\n",
    "board = example_board()\n",
    "manhattan_distance(board.start_location, board.goal_location)"
   ]
  },
  {
   "cell_type": "markdown",
   "id": "18d4fcda",
   "metadata": {},
   "source": [
    "<br><br>\n",
    "\n",
    "<hr>\n",
    "\n",
    "### <font color=\"blue\">Implementation</font>\n",
    "\n",
    "Implement `greedy_search` below to prioritize exploration of the node with the smallest `manhattan_distance` to the goal. Use the `PriorityQueue` implementation above. You'll also have to keep track of the `parent` of each node (the node that let to its discovery) in order to call the `explore` method.\n",
    "\n",
    "So, when we `push` things to the queue, the item should contain two locations, indicating the cell and its parent; i.e.:\n",
    "\n",
    "`queue.push(cost, (location, parent))`\n",
    "\n",
    "\n",
    "Note that the `greedy_search` signature accepts a `distance_fn`, which is just the name of the distance function to use. This way, we can later pass in something other than `manhattan_distance`.\n",
    "\n",
    "Here is an example of what my implementation outputs, though yours may differ:\n",
    "\n",
    "```\n",
    "  .  .  .  .  .  .  .  .  .  .\n",
    "  .  .  .  O  O  O  O  .  .  .\n",
    "  .  .  .  .  .  *  O  .  .  .\n",
    "  *  *  *  *  *  *  O  .  .  .\n",
    "  .  .  *  *  *  *  O  .  .  .\n",
    "  .  .  *  O  O  O  O  .  .  .\n",
    "  .  .  *  *  *  *  *  *  .  .\n",
    "      legal_location\t76\n",
    "         is_explored\t56\n",
    "             explore\t20\n",
    "                draw\t20\n",
    "          found_goal\t20\n",
    "explored 18 cells          \n",
    "  .  .  .  .  .  .  .  .  .  .\n",
    "  .  .  .  O  O  O  O  .  .  .\n",
    "  .  .  .  .  .  *  O  .  .  .\n",
    "  0  1  2  *  *  *  O  .  .  .\n",
    "  .  .  3  *  *  *  O  .  .  .\n",
    "  .  .  4  O  O  O  O  .  .  .\n",
    "  .  .  5  6  7  8  9 10  .  .\n",
    "```"
   ]
  },
  {
   "cell_type": "code",
   "execution_count": null,
   "id": "13e151df",
   "metadata": {},
   "outputs": [],
   "source": []
  },
  {
   "cell_type": "code",
   "execution_count": 59,
   "id": "e84bb224",
   "metadata": {},
   "outputs": [
    {
     "name": "stdout",
     "output_type": "stream",
     "text": [
      "  .  .  .  .  .  .  .  .  .  .\n",
      "  .  .  .  O  O  O  O  .  .  .\n",
      "  .  .  .  .  .  *  O  .  .  .\n",
      "  *  *  *  *  *  *  O  .  .  .\n",
      "  .  .  *  *  *  *  O  .  .  .\n",
      "  .  .  *  O  O  O  O  .  .  .\n",
      "  .  .  *  *  *  *  *  *  .  .\n",
      "      legal_location\t72\n",
      "          found_goal\t28\n",
      "         is_explored\t27\n",
      "             explore\t18\n",
      "                draw\t18\n",
      "explored 18 cells\n",
      "  .  .  .  .  .  .  .  .  .  .\n",
      "  .  .  .  O  O  O  O  .  .  .\n",
      "  .  .  .  .  .  *  O  .  .  .\n",
      "  0  1  2  *  *  *  O  .  .  .\n",
      "  .  .  3  *  *  *  O  .  .  .\n",
      "  .  .  4  O  O  O  O  .  .  .\n",
      "  .  .  5  6  7  8  9 10  .  .\n"
     ]
    }
   ],
   "source": [
    "def greedy_search(board, distance_fn):\n",
    "    ### TODO\n",
    "    begin = board.start_location\n",
    "    goal = board.goal_location\n",
    "    q = PriorityQueue()\n",
    "    q.push(distance_fn(begin,goal), (begin, None))\n",
    "\n",
    "    while not q.empty() and not board.found_goal():\n",
    "        pairs = q.get()\n",
    "        distance = pairs[0]\n",
    "        (location, parent) = pairs[1]\n",
    "        if not board.is_explored(location):\n",
    "            board.explore(location, parent)\n",
    "            parent = location\n",
    "            for nb in board.neighbors(location):\n",
    "                q.push(distance_fn(nb, goal), (nb, location))  \n",
    "    pass\n",
    "    \n",
    "board = example_board()\n",
    "greedy_search(board, manhattan_distance)\n",
    "board.call_stats()    \n",
    "board.draw_best_path()"
   ]
  },
  {
   "cell_type": "code",
   "execution_count": null,
   "id": "8720e9a1",
   "metadata": {
    "scrolled": true
   },
   "outputs": [],
   "source": []
  },
  {
   "cell_type": "markdown",
   "id": "ea5c0e55",
   "metadata": {},
   "source": [
    "<br><br>\n",
    "\n",
    "<hr>\n",
    "\n",
    "### <font color=\"blue\">Implementation</font>\n",
    "\n",
    "Implement A* in the `astar` function below.\n",
    "\n",
    "Sometimes the priority queue will contain ties, where $f(x) == f(y)$ To break ties in the priority queue, use the `distance_fn` passed in (h(n), which in this case is manhattan distance).\n",
    "\n",
    "Here is an example of what my implementation outputs, though yours may differ:\n",
    "\n",
    "```\n",
    "  .  .  .  .  .  .  .  .  .  .\n",
    "  .  .  .  O  O  O  O  .  .  .\n",
    "  .  .  .  .  .  .  O  .  .  .\n",
    "  *  *  *  *  *  *  O  .  .  .\n",
    "  .  .  *  *  *  *  O  .  .  .\n",
    "  .  .  *  O  O  O  O  .  .  .\n",
    "  .  .  *  *  *  *  *  *  .  .\n",
    "      legal_location\t64\n",
    "         is_explored\t48\n",
    "             explore\t17\n",
    "                draw\t17\n",
    "          found_goal\t17\n",
    "explored 17 cells\n",
    "  .  .  .  .  .  .  .  .  .  .\n",
    "  .  .  .  O  O  O  O  .  .  .\n",
    "  .  .  .  .  .  .  O  .  .  .\n",
    "  0  1  2  *  *  *  O  .  .  .\n",
    "  .  .  3  *  *  *  O  .  .  .\n",
    "  .  .  4  O  O  O  O  .  .  .\n",
    "  .  .  5  6  7  8  9 10  .  .\n",
    "```"
   ]
  },
  {
   "cell_type": "code",
   "execution_count": 95,
   "id": "bc8c5ac5",
   "metadata": {
    "scrolled": true
   },
   "outputs": [
    {
     "name": "stdout",
     "output_type": "stream",
     "text": [
      "  .  .  .  .  .  .  .  .  .  .\n",
      "  .  .  .  O  O  O  O  .  .  .\n",
      "  .  .  .  .  .  .  O  .  .  .\n",
      "  *  *  *  *  *  *  O  .  .  .\n",
      "  .  .  *  *  *  *  O  .  .  .\n",
      "  .  .  *  O  O  O  O  .  .  .\n",
      "  .  .  *  *  *  *  *  *  .  .\n",
      "      legal_location\t68\n",
      "          found_goal\t21\n",
      "         is_explored\t20\n",
      "             explore\t17\n",
      "                draw\t17\n",
      "explored 17 cells\n",
      "  .  .  .  .  .  .  .  .  .  .\n",
      "  .  .  .  O  O  O  O  .  .  .\n",
      "  .  .  .  .  .  .  O  .  .  .\n",
      "  0  1  2  *  *  *  O  .  .  .\n",
      "  .  .  3  *  *  *  O  .  .  .\n",
      "  .  .  4  O  O  O  O  .  .  .\n",
      "  .  .  5  6  7  8  9 10  .  .\n"
     ]
    }
   ],
   "source": [
    "def astar(board, distance_fn):\n",
    "    ### TODO\n",
    "    # g is the uniform cost\n",
    "    # h is the distence\n",
    "    begin = board.start_location\n",
    "    goal = board.goal_location\n",
    "    g = 0\n",
    "    h = distance_fn(begin,goal)\n",
    "    q = PriorityQueue()\n",
    "    q.push((g+h,h),(begin, None))\n",
    "    while not q.empty() and not board.found_goal():\n",
    "        pairs = q.get()\n",
    "        f, h = pairs[0]\n",
    "        location, parent = pairs[1]\n",
    "        g = f - h\n",
    "        if not board.is_explored(location):\n",
    "            board.explore(location, parent)\n",
    "            parent = location\n",
    "            for nb in board.neighbors(location):\n",
    "                h = distance_fn(nb, goal)\n",
    "                q.push((g+1+h,h),(nb,location)) # g+1 because this g is the nb, which we have spread 1 step\n",
    "    pass\n",
    "    \n",
    "board = example_board()\n",
    "astar(board, manhattan_distance)\n",
    "board.call_stats()\n",
    "board.draw_best_path()"
   ]
  },
  {
   "cell_type": "markdown",
   "id": "559ea164",
   "metadata": {},
   "source": [
    "**answer here**\n",
    "We find that A* does better than greedy search,BFS, DFS\n",
    "<br><br><br><br>\n",
    "\n",
    "\n",
    "\n",
    "\n",
    "\n",
    "\n",
    "\n"
   ]
  },
  {
   "cell_type": "markdown",
   "id": "ebdee53e",
   "metadata": {},
   "source": [
    "<br><br>\n",
    "\n",
    "<hr>\n",
    "\n",
    "### <font color=\"blue\">Implementation</font>\n",
    "\n",
    "We've said that greedy can be non-optimal. Let's find an example.\n",
    "\n",
    "Create a board for which:\n",
    "- A* finds the optimal path\n",
    "- Greedy finds a suboptimal path\n",
    "- A* explores more nodes than greedy.\n",
    "\n",
    "Do so in the `hard_example_board` function below.\n",
    "<hr>\n",
    "<br><br>\n",
    "\n"
   ]
  },
  {
   "cell_type": "code",
   "execution_count": 80,
   "id": "c5312b1c",
   "metadata": {},
   "outputs": [
    {
     "name": "stdout",
     "output_type": "stream",
     "text": [
      "  .  .  .  .  .  .  .  .  .  .\n",
      "  .  .  .  O  O  O  O  .  .  .\n",
      "  .  .  .  .  .  *  *  *  .  .\n",
      "  *  *  *  *  *  *  O  *  .  .\n",
      "  .  .  .  *  *  *  O  *  .  .\n",
      "  .  .  O  O  O  O  O  *  .  .\n",
      "  .  .  .  .  .  .  .  *  .  .\n",
      "      legal_location\t64\n",
      "          found_goal\t21\n",
      "         is_explored\t20\n",
      "             explore\t16\n",
      "                draw\t16\n",
      "explored 16 cells\n",
      "  .  .  .  .  .  .  .  .  .  .\n",
      "  .  .  .  O  O  O  O  .  .  .\n",
      "  .  .  .  .  .  6  7  8  .  .\n",
      "  0  1  2  3  4  5  O  9  .  .\n",
      "  .  .  .  *  *  *  O 10  .  .\n",
      "  .  .  O  O  O  O  O 11  .  .\n",
      "  .  .  .  .  .  .  . 12  .  .\n"
     ]
    }
   ],
   "source": [
    "def hard_example_board():\n",
    "    ### TODO\n",
    "    return Board(rows=7,\n",
    "                 cols=10,\n",
    "                 start_location=(3,0), \n",
    "                 goal_location=(6,7),\n",
    "                 wall_locations=[(1,3), (1,4), (1,5), (1,6), (3,6),(4,6), (5,2), (5,3), (5,4), (5,5), (5,6)])\n",
    "    pass\n",
    "\n",
    "# run with greedy\n",
    "board = hard_example_board()\n",
    "greedy_search(board, manhattan_distance)\n",
    "board.call_stats()\n",
    "board.draw_best_path()"
   ]
  },
  {
   "cell_type": "code",
   "execution_count": 76,
   "id": "45cf346d",
   "metadata": {},
   "outputs": [
    {
     "name": "stdout",
     "output_type": "stream",
     "text": [
      "  .  .  .  .  .  .  .  .  .  .\n",
      "  .  .  .  O  O  O  O  .  .  .\n",
      "  .  .  .  .  .  .  .  .  .  .\n",
      "  *  *  *  *  *  *  O  .  .  .\n",
      "  .  *  *  *  *  *  O  .  .  .\n",
      "  .  *  O  O  O  O  O  .  .  .\n",
      "  .  *  *  *  *  *  *  *  .  .\n",
      "      legal_location\t76\n",
      "          found_goal\t24\n",
      "         is_explored\t23\n",
      "             explore\t19\n",
      "                draw\t19\n",
      "explored 19 cells\n",
      "  .  .  .  .  .  .  .  .  .  .\n",
      "  .  .  .  O  O  O  O  .  .  .\n",
      "  .  .  .  .  .  .  .  .  .  .\n",
      "  0  1  *  *  *  *  O  .  .  .\n",
      "  .  2  *  *  *  *  O  .  .  .\n",
      "  .  3  O  O  O  O  O  .  .  .\n",
      "  .  4  5  6  7  8  9 10  .  .\n"
     ]
    }
   ],
   "source": [
    "# run with astar\n",
    "board = hard_example_board()\n",
    "astar(board, manhattan_distance)\n",
    "board.call_stats()\n",
    "board.draw_best_path()"
   ]
  },
  {
   "cell_type": "code",
   "execution_count": 82,
   "id": "674d2180",
   "metadata": {},
   "outputs": [],
   "source": [
    "# For this example:\n",
    "# - Greedy: cost is 12, explored 20 cells\n",
    "# - A*: cost is 10, explored 23 cells"
   ]
  },
  {
   "cell_type": "markdown",
   "id": "66598d26",
   "metadata": {},
   "source": [
    "<br><br><br>\n",
    "\n",
    "Below we implement an alternative distance function called `another_distance` and compare performance with using `manhattan_distance`."
   ]
  },
  {
   "cell_type": "code",
   "execution_count": 73,
   "id": "df3cbddc",
   "metadata": {},
   "outputs": [
    {
     "name": "stdout",
     "output_type": "stream",
     "text": [
      "  .  .  .  .  .  .  .  .  .  .\n",
      "  .  .  .  O  O  O  O  .  .  .\n",
      "  .  .  .  .  .  *  O  .  .  .\n",
      "  *  *  *  *  *  *  O  .  .  .\n",
      "  .  .  *  *  *  *  O  .  .  .\n",
      "  .  .  *  O  O  O  O  .  .  .\n",
      "  .  .  *  *  *  *  *  *  .  .\n",
      "      legal_location\t72\n",
      "          found_goal\t28\n",
      "         is_explored\t27\n",
      "             explore\t18\n",
      "                draw\t18\n",
      "explored 18 cells\n",
      "  .  .  .  .  .  .  .  .  .  .\n",
      "  .  .  .  O  O  O  O  .  .  .\n",
      "  .  .  .  .  .  *  O  .  .  .\n",
      "  0  1  2  *  *  *  O  .  .  .\n",
      "  .  .  3  *  *  *  O  .  .  .\n",
      "  .  .  4  O  O  O  O  .  .  .\n",
      "  .  .  5  6  7  8  9 10  .  .\n"
     ]
    }
   ],
   "source": [
    "def another_distance(loc1, loc2):\n",
    "    return ((loc1[0] - loc2[0])**2 + (loc1[1] - loc2[1])**2)**.5\n",
    "\n",
    "board = example_board()\n",
    "greedy_search(board, manhattan_distance)\n",
    "board.call_stats()\n",
    "board.draw_best_path()"
   ]
  },
  {
   "cell_type": "code",
   "execution_count": 74,
   "id": "04549064",
   "metadata": {},
   "outputs": [
    {
     "name": "stdout",
     "output_type": "stream",
     "text": [
      "  .  .  .  .  .  .  .  .  .  .\n",
      "  .  .  .  O  O  O  O  .  .  .\n",
      "  *  *  *  *  .  .  O  .  .  .\n",
      "  *  *  *  *  *  *  O  .  .  .\n",
      "  *  *  *  *  *  *  O  .  .  .\n",
      "  *  *  *  O  O  O  O  .  .  .\n",
      "  .  .  *  *  *  *  *  *  .  .\n",
      "      legal_location\t100\n",
      "          found_goal\t45\n",
      "         is_explored\t44\n",
      "             explore\t25\n",
      "                draw\t25\n",
      "explored 25 cells\n",
      "  .  .  .  .  .  .  .  .  .  .\n",
      "  .  .  .  O  O  O  O  .  .  .\n",
      "  *  *  *  *  .  .  O  .  .  .\n",
      "  0  *  *  *  *  *  O  .  .  .\n",
      "  1  2  3  *  *  *  O  .  .  .\n",
      "  *  *  4  O  O  O  O  .  .  .\n",
      "  .  .  5  6  7  8  9 10  .  .\n"
     ]
    }
   ],
   "source": [
    "board = example_board()\n",
    "astar(board, another_distance)\n",
    "board.call_stats()\n",
    "board.draw_best_path()"
   ]
  },
  {
   "cell_type": "markdown",
   "id": "22fa9b8b",
   "metadata": {},
   "source": [
    "<br><br>\n",
    "\n",
    "<hr>\n",
    "\n",
    "### <font color=\"blue\">Question</font>\n",
    "\n",
    "- In terms of the number of cells explored, is the `another_distance` function more efficient, less efficient, or the same as `manhattan_distance`. Why?\n",
    "\n",
    "- Is `another_distance` admissible? consistent? Why/Why not?\n",
    "\n",
    "<hr>\n",
    "<br><br>\n"
   ]
  },
  {
   "cell_type": "markdown",
   "id": "88077f6f",
   "metadata": {},
   "source": [
    "**answer here**\n",
    "For the manhattan_distance we explored 27 cells, while for another_distancewe explored 44 cells. So, the another_distance function is less efficient. Because the weight to each direction is the same and this is a grid. So, actually the manhattan_distance is the number of step and each step has the same cost. Then, manhattan_distance is more appropriate than another_distance.\n",
    "\n",
    "\n",
    "The another_distance is admissible. Because in this case the true optimal forward cost is the manhattan_distance and the euclidean distance between two point is always smaller than the manhattan_distance.\n",
    "\n",
    "Also, the another_distance is consistent. Assume there are two point A,C. h() is the euclidean distance. Then from the property of triangle, h(A)-h(C)<h(A-C).h(A-C) is the euclidean distance between A and C.So, h(A-C) is less than the manhattan_distance between which is also the real cost between A and C(cost(A,C)). So,  h(A)-h(C)<h(A-C)<cost(A,C). Then, it is consistent\n",
    "\n",
    "\n",
    "<br><br><br><br>\n",
    "\n",
    "\n",
    "\n",
    "\n",
    "\n",
    "\n",
    "\n"
   ]
  },
  {
   "cell_type": "markdown",
   "id": "2ecd276a",
   "metadata": {},
   "source": [
    "<br><br>\n",
    "\n",
    "<hr>\n",
    "\n",
    "### <font color=\"blue\">Question</font>\n",
    "\n",
    "Suppose we modify our maze as follows. For some unknown number of cells, when the agent explores it, it is immediately warped to another, possibly distant, part of the board. Is the manhattan distance admissible in this setting? Why or why not? If not, provide a counter example.\n",
    "\n",
    "<hr>\n",
    "<br><br>\n"
   ]
  },
  {
   "cell_type": "markdown",
   "id": "16dd9719",
   "metadata": {},
   "source": [
    "**answer here**\n",
    "The manhattan distance is not admissible in this case. Because since the for some unknown number of cells, when the agent explores it, it is immediately warped to another, possibly distant, part of the board. So, it may make the real distance shorter than previous. Then, the manhattan distance may shorter than the real distance and it will not be admissible.\n",
    "<br><br><br><br>\n",
    "\n",
    "\n",
    "\n",
    "\n",
    "\n",
    "\n",
    "\n"
   ]
  },
  {
   "cell_type": "markdown",
   "id": "8bd46419",
   "metadata": {},
   "source": [
    "<br><br><br>\n",
    "\n",
    "## <font color=\"blue\">Game playing</font>\n",
    "\n",
    "For the final part of this assignment, we'll implement a simple agent to play Tic Tac Toe.\n",
    "\n",
    "Below, we've implemented `TTTBoard` to store the game state."
   ]
  },
  {
   "cell_type": "code",
   "execution_count": 60,
   "id": "d2950e6e",
   "metadata": {},
   "outputs": [
    {
     "name": "stdout",
     "output_type": "stream",
     "text": [
      "...\n",
      "...\n",
      "...\n"
     ]
    }
   ],
   "source": [
    "import copy\n",
    "\n",
    "X = 'X'\n",
    "O = 'O'\n",
    "BLANK = '.'\n",
    "DRAW = 'DRAW'\n",
    "\n",
    "class TTTBoard:\n",
    "    def __init__(self):\n",
    "        self.cells = [[BLANK] * 3 for j in range(3)]\n",
    "        self.to_move = X # X moves first.\n",
    "        \n",
    "    def draw(self):\n",
    "        for i in range(3):\n",
    "            print(''.join(self.cells[i]))\n",
    "            \n",
    "    def move(self, location):\n",
    "        \"\"\"\n",
    "        Make a move. The player whose turn it is will be assigned to the given location.\n",
    "        Note that we return a new copy of the board so that we can search for winning moves.\n",
    "        \"\"\"\n",
    "        ttt = TTTBoard()\n",
    "        ttt.cells = copy.deepcopy(self.cells)\n",
    "        ttt.cells[location[0]][location[1]] = self.to_move\n",
    "        ttt.to_move = X if self.to_move == O else O\n",
    "        return ttt\n",
    "        \n",
    "    def winner(self):\n",
    "        \"\"\"\n",
    "        Returns X or O if they have a winning position, \n",
    "        or return DRAW if there are no more moves and no one\n",
    "        has one. Otherwise, return None.\n",
    "        \"\"\"\n",
    "        for i in range(3):\n",
    "            # check columns\n",
    "            winner = self.match((i,0), (i,1), (i,2))\n",
    "            if winner:\n",
    "                return winner\n",
    "            # check rows\n",
    "            winner = self.match((0,i), (1,i), (2,i))\n",
    "            if winner:\n",
    "                return winner\n",
    "        # check diagonals\n",
    "        winner = self.match((0,0), (1,1), (2,2))\n",
    "        if winner:\n",
    "            return winner\n",
    "        winner = self.match((2,0), (1,1), (0,2))\n",
    "        if winner:\n",
    "            return winner\n",
    "        if len(self.open_squares()) == 0:\n",
    "            return DRAW\n",
    "        return None\n",
    "    \n",
    "    def match(self, a, b, c):\n",
    "        # do values in these cells match? (and are not blank)\n",
    "        if (self.cells[a[0]][a[1]] == self.cells[b[0]][b[1]] and\n",
    "            self.cells[b[0]][b[1]] == self.cells[c[0]][c[1]] and\n",
    "            self.cells[a[0]][a[1]] != BLANK):\n",
    "            return self.cells[a[0]][a[1]]    \n",
    "    \n",
    "    def utility(self, player):\n",
    "        \"\"\"\n",
    "        Return the utility of this board for the given player.\n",
    "        1 if win, -1 if lose, 0 otherwise.\n",
    "        \"\"\"\n",
    "        w = self.winner()\n",
    "        if w == player:\n",
    "            return 1\n",
    "        elif w == DRAW or w is None:\n",
    "            return 0\n",
    "        else:\n",
    "            return -1\n",
    "        \n",
    "    def open_squares(self):\n",
    "        \"\"\"\n",
    "        Return a list of (x,y) tuples for the remaining\n",
    "        blank squares.\n",
    "        \"\"\"\n",
    "        result = []\n",
    "        for i in range(3):\n",
    "            for j in range(3):\n",
    "                if self.cells[i][j] == BLANK:\n",
    "                    result.append((i,j))\n",
    "        return result\n",
    "            \n",
    "\n",
    "ttt = TTTBoard()\n",
    "ttt.draw()"
   ]
  },
  {
   "cell_type": "code",
   "execution_count": 51,
   "id": "103943fa",
   "metadata": {},
   "outputs": [
    {
     "name": "stdout",
     "output_type": "stream",
     "text": [
      "X..\n",
      ".O.\n",
      "..X\n",
      "winner=None\n",
      "X utility=0  O utility=0\n"
     ]
    }
   ],
   "source": [
    "# a few example moves.\n",
    "ttt = ttt.move((0,0))\n",
    "ttt = ttt.move((1,1))\n",
    "ttt = ttt.move((2,2))\n",
    "ttt.draw()\n",
    "print('winner=%s' % ttt.winner())\n",
    "print('X utility=%d  O utility=%d' % (ttt.utility(X), ttt.utility(O)))"
   ]
  },
  {
   "cell_type": "code",
   "execution_count": 52,
   "id": "8f28ca9e",
   "metadata": {},
   "outputs": [
    {
     "name": "stdout",
     "output_type": "stream",
     "text": [
      "XOO\n",
      "XO.\n",
      "X.X\n",
      "winner=X\n",
      "X utility=1  O utility=-1\n"
     ]
    }
   ],
   "source": [
    "# make X win...\n",
    "ttt = ttt.move((0,1))\n",
    "ttt = ttt.move((1,0))\n",
    "ttt = ttt.move((0,2))\n",
    "ttt = ttt.move((2,0))\n",
    "ttt.draw()\n",
    "print('winner=%s' % ttt.winner())\n",
    "print('X utility=%d  O utility=%d' % (ttt.utility(X), ttt.utility(O)))"
   ]
  },
  {
   "cell_type": "markdown",
   "id": "4d088c1d",
   "metadata": {},
   "source": [
    "Now we need to implement some strategies to decide which square to pick next.\n",
    "\n",
    "Below is an implementation of the main loop, `play_game`, which takes in the board, as well as a dict of strategies, one per player.\n",
    "\n",
    "We first show how this works using a random player."
   ]
  },
  {
   "cell_type": "code",
   "execution_count": 62,
   "id": "754eda4c",
   "metadata": {},
   "outputs": [
    {
     "name": "stdout",
     "output_type": "stream",
     "text": [
      "OXX\n",
      "XOO\n",
      "OXX\n",
      "result is: DRAW\n"
     ]
    }
   ],
   "source": [
    "# let's play randomly.\n",
    "def play_game(ttt, strategies):\n",
    "    \"\"\"Play a turn-taking game. `strategies` is a {player_name: function} dict,\n",
    "    where function(state, game) is used to get the player's move.\"\"\"\n",
    "    while ttt.winner() is  None:\n",
    "        player = ttt.to_move\n",
    "        move = strategies[player](ttt)\n",
    "        ttt = ttt.move(move)\n",
    "        clear_output(wait=True)\n",
    "        ttt.draw()\n",
    "        time.sleep(.5)\n",
    "    print('result is: %s' % ttt.winner())\n",
    "\n",
    "def random_strategy(ttt):\n",
    "    return random.choice(ttt.open_squares())\n",
    "    \n",
    "random.seed(42)\n",
    "\n",
    "ttt = TTTBoard()\n",
    "play_game(ttt, {X: random_strategy, O:random_strategy})"
   ]
  },
  {
   "cell_type": "markdown",
   "id": "8d3f3967",
   "metadata": {},
   "source": [
    "<br><br>\n",
    "\n",
    "<hr>\n",
    "\n",
    "### <font color=\"blue\">Implementation</font>\n",
    "\n",
    "Implement `minimax_search` below, which takes in a board, runs the minimax algorithm, and returns the best move found, which is an (x,y) tuple of the location to move to.\n",
    "\n",
    "Recall that the `TTTBoard` has a `.to_move` attribute, which indicates whose turn it is.\n",
    "<hr>\n",
    "<br><br>\n",
    "\n"
   ]
  },
  {
   "cell_type": "code",
   "execution_count": 99,
   "id": "a408d47a",
   "metadata": {},
   "outputs": [
    {
     "name": "stdout",
     "output_type": "stream",
     "text": [
      "(0, 0)\n"
     ]
    }
   ],
   "source": [
    "def minimax(ttt):\n",
    "    \"\"\"Search game tree to determine best move; return (value, move) pair.\"\"\"\n",
    "    ### TODO\n",
    "    def subminimax(ttt, MaximizingPlayer = True):\n",
    "        if MaximizingPlayer == True:\n",
    "            player = ttt.to_move\n",
    "        else:\n",
    "            player = O if ttt.to_move == X else X\n",
    "\n",
    "        if ttt.winner() != None:\n",
    "            return ttt.utility(player), None\n",
    "\n",
    "        if MaximizingPlayer:\n",
    "            v = - math.inf\n",
    "            move = None\n",
    "            for child in ttt.open_squares():\n",
    "                u, _ = subminimax(ttt.move(child), False)\n",
    "                if u > v:\n",
    "                    v = u\n",
    "                    move = child\n",
    "            return v, move  \n",
    "\n",
    "        else:\n",
    "            v = math.inf\n",
    "            move = None\n",
    "            for child in ttt.open_squares():\n",
    "                u, _ = subminimax(ttt.move(child), True)\n",
    "                if u < v:\n",
    "                    v = u\n",
    "                    move = child\n",
    "            return v, move\n",
    "    return subminimax(ttt)[1]\n",
    "\n",
    "ttt = TTTBoard()\n",
    "chosen_move = minimax(ttt)\n",
    "print(chosen_move)"
   ]
  },
  {
   "cell_type": "code",
   "execution_count": null,
   "id": "5b70b90d",
   "metadata": {},
   "outputs": [],
   "source": []
  },
  {
   "cell_type": "code",
   "execution_count": 92,
   "id": "a2903977",
   "metadata": {},
   "outputs": [
    {
     "name": "stdout",
     "output_type": "stream",
     "text": [
      "XOO\n",
      "XXX\n",
      ".O.\n",
      "result is: X\n"
     ]
    }
   ],
   "source": [
    "# let's make sure minimax doesn't lose to a random player.\n",
    "random.seed(42)\n",
    "ttt = TTTBoard()\n",
    "play_game(ttt, {X: minimax, O:random_strategy})"
   ]
  },
  {
   "cell_type": "code",
   "execution_count": 93,
   "id": "d798f97d",
   "metadata": {},
   "outputs": [
    {
     "name": "stdout",
     "output_type": "stream",
     "text": [
      "XXO\n",
      "OOX\n",
      "XOX\n",
      "result is: DRAW\n"
     ]
    }
   ],
   "source": [
    "# ...and that minimax draws against itself.\n",
    "ttt = TTTBoard()\n",
    "play_game(ttt, {X: minimax, O:minimax})"
   ]
  },
  {
   "cell_type": "markdown",
   "id": "5687aaaf",
   "metadata": {},
   "source": [
    "<br><br>\n",
    "\n",
    "<hr>\n",
    "\n",
    "### <font color=\"blue\">Question</font>\n",
    "\n",
    "Notice that `TTTBoard.move` creates a entirely new copy of the `TTTBoard` object. This is to ensure we can \"play out\" different paths in the search tree independently.\n",
    "\n",
    "Given that we have a 3x3 board, what is the worst-case big Oh **space** complexity of minimax?\n",
    "\n",
    "<hr>\n",
    "<br><br>\n"
   ]
  },
  {
   "cell_type": "markdown",
   "id": "4c33e48b",
   "metadata": {},
   "source": [
    "**answer here**\n",
    "The space complexity is O(bm), where b is the number of legal moves at each point and m is the maximum depth of the tree. The worst case is we explore all cell of this 3x3 board, whose Oh space complexity is O(9^2)\n",
    "\n",
    "<br><br><br><br>\n",
    "\n",
    "\n",
    "\n",
    "\n",
    "\n",
    "\n",
    "\n"
   ]
  },
  {
   "cell_type": "markdown",
   "id": "fa6b2b06",
   "metadata": {},
   "source": [
    "<br><br>\n",
    "\n",
    "<hr>\n",
    "\n",
    "### <font color=\"blue\">Implementation (graduate students only)</font>\n",
    "\n",
    "Implement `alpha_beta` below, which performs alpha/beta pruning.\n",
    "<hr>\n",
    "<br><br>\n",
    "\n"
   ]
  },
  {
   "cell_type": "code",
   "execution_count": 97,
   "id": "c23b0418",
   "metadata": {},
   "outputs": [],
   "source": [
    "def alpha_beta(ttt):\n",
    "    ### TODO\n",
    "    def sub_alphabeta(ttt,alpha,beta,player):\n",
    "        c_util = ttt.utility(player)\n",
    "        if c_util != 0:\n",
    "            return None, c_util\n",
    "        op_sqs = ttt.open_squares()\n",
    "        if len(op_sqs) == 0:\n",
    "            return None, 0\n",
    "        \n",
    "        if player == ttt.to_move:\n",
    "            val, move = -math.inf, None\n",
    "            for m in op_sqs:\n",
    "                v = sub_alphabeta(ttt.move(m),alpha,beta,player)[1]\n",
    "                if val < v:\n",
    "                    val = v\n",
    "                    move = m\n",
    "                alpha = max(alpha,val)\n",
    "                if val >= beta:\n",
    "                    break\n",
    "            return move,val\n",
    "        else:\n",
    "            val, move = math.inf, None\n",
    "            for m in op_sqs:\n",
    "                v = sub_alphabeta(ttt.move(m),alpha,beta,player)[1]\n",
    "                if val > v:\n",
    "                    val = v\n",
    "                    move = m\n",
    "                beta = min(beta,val)\n",
    "                if val <= alpha:\n",
    "                    break\n",
    "            return move,val\n",
    "    return sub_alphabeta(ttt,-math.inf,math.inf,ttt.to_move)\n",
    "\n",
    "    pass\n",
    "    ###"
   ]
  },
  {
   "cell_type": "markdown",
   "id": "0ed9fd12",
   "metadata": {},
   "source": [
    "<br><br>\n",
    "\n",
    "<hr>\n",
    "\n",
    "### <font color=\"blue\">Question</font>\n",
    "\n",
    "Give an approximation of the total number of tic-tac-toe games that are possible to be played.\n",
    "\n",
    "\n",
    "\n",
    "\n",
    "\n",
    "\n",
    "\n",
    "\n",
    "\n"
   ]
  },
  {
   "cell_type": "code",
   "execution_count": 85,
   "id": "8171899c",
   "metadata": {},
   "outputs": [
    {
     "data": {
      "text/plain": [
       "362880"
      ]
     },
     "execution_count": 85,
     "metadata": {},
     "output_type": "execute_result"
    }
   ],
   "source": [
    "9*8*7*6*5*4*3*2"
   ]
  },
  {
   "cell_type": "markdown",
   "id": "108556fb",
   "metadata": {},
   "source": [
    "**answer here**\n",
    "It should be 9! games, which is 362880\n",
    "<br><br><br><br>"
   ]
  },
  {
   "cell_type": "markdown",
   "id": "eb6a2c3f",
   "metadata": {},
   "source": [
    "<br><br>\n",
    "\n",
    "<hr>\n",
    "\n",
    "### <font color=\"blue\">Question</font>\n",
    "\n",
    "Currently, all non-terminal games are given a utility of 0. We may be able to speed up search if we had a heuristic that quantified the value of a certain position of the board. For example, for player X, this board:\n",
    "\n",
    "```\n",
    "O.X\n",
    "..X\n",
    "...\n",
    "```\n",
    "\n",
    "is probably more valuable than this board:\n",
    "\n",
    "```\n",
    "O.X\n",
    "X..\n",
    "...\n",
    "```\n",
    "\n",
    "Provide a (mathematical) function that takes a board and player as input and returns a score for the value of that board to the player. (No need to code this one.)\n",
    "\n",
    "\n",
    "\n",
    "\n",
    "\n",
    "\n",
    "\n"
   ]
  },
  {
   "cell_type": "markdown",
   "id": "4585f6a2",
   "metadata": {},
   "source": [
    "**answer here**\n",
    "In one board, there are 8 line, including 3 rows, 3 columns, 2 hypotenuse.In each line, we can compute a utility for X: \n",
    "- When there is 2X and the left is a blank, u=2; \n",
    "- When there is 1X and the left are blank, u=1; \n",
    "- Otherwise, u=0\n",
    "Then, we add this utility for all these 8 line and get a sum utility. When this value is large, it means X are more likely to win. So, the input is a board and player, the output can show how likely this player are going to win.\n",
    "<br><br><br><br>"
   ]
  },
  {
   "cell_type": "markdown",
   "id": "65dc443b",
   "metadata": {},
   "source": [
    "<br><br>\n",
    "\n",
    "<hr>\n",
    "\n",
    "### <font color=\"blue\">Question</font>\n",
    "\n",
    "Describe how you would use this function to improve the efficiency of your minimax agent. Will it still play optimally? Why or why not?\n",
    "\n",
    "\n",
    "\n",
    "\n",
    "\n",
    "\n"
   ]
  },
  {
   "cell_type": "markdown",
   "id": "cfa0fd43",
   "metadata": {},
   "source": [
    "**answer here**\n",
    "We can add this value to our previous utility in minimax agent. I think we should give some weight before we add this to the previous utility, otherwise, it will not be optimal. Because if we just add this value, it may happen some cases like 2X and the left is a blank is better than 3X in a line.\n",
    "<br><br><br><br>"
   ]
  },
  {
   "cell_type": "code",
   "execution_count": null,
   "id": "461c82a4",
   "metadata": {},
   "outputs": [],
   "source": []
  }
 ],
 "metadata": {
  "kernelspec": {
   "display_name": "Python 3",
   "language": "python",
   "name": "python3"
  },
  "language_info": {
   "codemirror_mode": {
    "name": "ipython",
    "version": 3
   },
   "file_extension": ".py",
   "mimetype": "text/x-python",
   "name": "python",
   "nbconvert_exporter": "python",
   "pygments_lexer": "ipython3",
   "version": "3.8.8"
  },
  "toc": {
   "base_numbering": 1,
   "nav_menu": {},
   "number_sections": false,
   "sideBar": true,
   "skip_h1_title": true,
   "title_cell": "Table of Contents",
   "title_sidebar": "Contents",
   "toc_cell": true,
   "toc_position": {},
   "toc_section_display": true,
   "toc_window_display": false
  }
 },
 "nbformat": 4,
 "nbformat_minor": 5
}
