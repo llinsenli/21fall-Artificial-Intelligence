{
 "cells": [
  {
   "cell_type": "markdown",
   "metadata": {},
   "source": [
    "# Assignment 2\n",
    "## Sudoku\n",
    "\n",
    "\n",
    "In this assignment you will implement a Sudoku solver using CSPs. If you've never played Sudoku before, you can learn about it [here](https://en.wikipedia.org/wiki/Sudoku).\n",
    "\n",
    "In the `sudoku` subfolder, there are several puzzles of varying difficulty. The solutions are in [sudoku/sudoku_solutions.pdf](sudoku/sudoku_solutions.pdf).\n",
    "\n",
    "\n",
    "(Assignment adapted from Chris Callison-Burch.)\n"
   ]
  },
  {
   "cell_type": "markdown",
   "metadata": {},
   "source": [
    "In this section, we will view a Sudoku puzzle not from the perspective of its grid layout, but more abstractly as a collection of cells. Accordingly, we will represent it internally as a dictionary mapping from cells, i.e. (row, column) pairs, to sets of possible values. This dictionary should have a fixed (9 x 9=81) set of pairs of keys, but the number of elements in each set corresponding to a key will change as the board is being manipulated.\n",
    "\n",
    "**Part 1**\n",
    "\n",
    "In the Sudoku class below, write an initialization method `__init__(self, board)` that stores such a mapping for future use. Also write a method `get_values(self, cell)` that returns the set of values currently available at a particular cell.\n",
    "\n",
    "In addition, write a function `read_board(path)` that reads the board specified by the file at the given path and returns it as a dictionary. Sudoku puzzles will be represented textually as 9 lines of 9 characters each, corresponding to the rows of the board, where a digit between \"1\" and \"9\" denotes a cell containing a fixed value, and an asterisk \"*\" denotes a blank cell that could contain any digit.\n",
    "\n",
    "```python\n",
    ">>> b = read_board(\"sudoku/medium1.txt\")\n",
    ">>> Sudoku(b).get_values((0, 0))\n",
    "set([1, 2, 3, 4, 5, 6, 7, 8, 9])\n",
    "    \n",
    ">>> b = read_board(\"sudoku/medium1.txt\")\n",
    ">>> Sudoku(b).get_values((0, 1))\n",
    "set([1])\n",
    "```"
   ]
  },
  {
   "cell_type": "code",
   "execution_count": 2,
   "metadata": {},
   "outputs": [],
   "source": [
    "import math\n",
    "import random\n",
    "import time\n",
    "import os\n",
    "#import Queue\n",
    "import copy\n",
    "\n",
    "fileDir = os.path.dirname(os.path.realpath('__file__'))\n",
    "\n"
   ]
  },
  {
   "cell_type": "code",
   "execution_count": null,
   "metadata": {},
   "outputs": [],
   "source": []
  },
  {
   "cell_type": "code",
   "execution_count": null,
   "metadata": {},
   "outputs": [],
   "source": []
  },
  {
   "cell_type": "code",
   "execution_count": 3,
   "metadata": {},
   "outputs": [],
   "source": [
    "\n",
    "def sudoku_cells():\n",
    "    # Returns the list of all cells in a Sudoku puzzle as (row, column) pairs\n",
    "    c = list()\n",
    "    for i in range(0,9):\n",
    "        for j in range(0,9):\n",
    "            c.append((i,j))\n",
    "    return c\n",
    "cell_temp = sudoku_cells()\n",
    "\n",
    "def sudoku_arcs():\n",
    "    arcs = list()\n",
    "    for key1 in cell_temp:\n",
    "        for key2 in cell_temp:\n",
    "            # first ensure they are not the same\n",
    "            if key1 != key2:\n",
    "                # if they are in same row or col\n",
    "                if key1[0] == key2[0] or key1[1] == key2[1]:\n",
    "                    arcs.append((key1,key2))\n",
    "                # if they are in the same box\n",
    "                elif math.floor(key1[0]/3) == math.floor(key2[0]/3) and \\\n",
    "                     math.floor(key1[1]/3) == math.floor(key2[1]/3):\n",
    "                    arcs.append((key1,key2))\n",
    "    return arcs\n",
    "\n",
    "def read_board(path):\n",
    "    board=dict()\n",
    "    index = 0\n",
    "    filename = os.path.join(fileDir, path)\n",
    "    filehandle = open(filename)\n",
    "    cell_list = list()\n",
    "    for line in filehandle:\n",
    "        line = line.rstrip().lstrip()\n",
    "        cell_list.append(line)\n",
    "    filehandle.close()\n",
    "    for i in cell_list:\n",
    "        for element in i:\n",
    "            if element == '*':\n",
    "                board[cell_temp[index]] = set([1,2,3,4,5,6,7,8,9])\n",
    "            else:\n",
    "                board[cell_temp[index]] = set([int(element)])\n",
    "            index +=1\n",
    "    return board\n",
    "\n",
    "\n",
    "class Sudoku(object):\n",
    "\n",
    "    CELLS = sudoku_cells()\n",
    "    ARCS = sudoku_arcs()\n",
    "\n",
    "    def __init__(self, board):\n",
    "        self.board = board\n",
    "        pass\n",
    "\n",
    "    def get_values(self, cell):\n",
    "        return self.board[cell]\n",
    "\n",
    "    \n",
    "    def remove_inconsistent_values(self, cell1, cell2):\n",
    "        set_cell1=self.get_values(cell1)\n",
    "        set_cell2=self.get_values(cell2)\n",
    "        if len(self.board[cell2]) == 1:\n",
    "            for x in set_cell1:\n",
    "                if x in set_cell2:\n",
    "                    set_cell1.remove(x)\n",
    "                    return True\n",
    "            return False\n",
    "        else:\n",
    "            return False\n",
    "    \n",
    "         \n",
    "\n",
    "    def infer_improved(self):\n",
    "        reduced = 1\n",
    "        while reduced == 1:\n",
    "            reduced = 0\n",
    "            self.infer_ac3()\n",
    "            if self.is_solved():\n",
    "                return self\n",
    "            for i in range(0,9):\n",
    "                for j in range(0,9):\n",
    "                    element = (i,j)\n",
    "                    if len(self.board[element]) > 1:\n",
    "                        for value in self.board[element]:\n",
    "                            # check if the value is not in anywhere in the block\n",
    "                            if not self.is_in_block(value,element):\n",
    "                                self.board[element] = set([value])\n",
    "                                reduced = 1\n",
    "                            # check if the value is not in anywhere in the row\n",
    "                            if not self.is_in_row(value,element):\n",
    "                                self.board[element] = set([value])\n",
    "                                reduced = 1\n",
    "                            # check if the value is not in anythere in the col\n",
    "                            if not self.is_in_col(value,element):\n",
    "                                self.board[element] = set([value])\n",
    "                                reduced = 1\n",
    "        return self\n",
    "\n",
    "    def infer_ac3(self):\n",
    "        queue = list()\n",
    "        for element in self.ARCS:\n",
    "            queue.append(element)\n",
    "        while queue:\n",
    "            frontier = queue.pop(0)\n",
    "            if self.is_solved():\n",
    "                break\n",
    "                return self\n",
    "            if self.remove_inconsistent_values(frontier[0], frontier[1]):\n",
    "                self.ac3_s(queue, frontier)\n",
    "                    \n",
    "    def ac3_s(self, queue, arc):\n",
    "        row = arc[0][0]\n",
    "        col = arc[0][1]\n",
    "        # Check the rows and lines\n",
    "        for i in range(9):\n",
    "            if i not in range(row, row+3):\n",
    "                if (i,col) != arc[0][1]:\n",
    "                    queue.append((i,col), (row, col))\n",
    "        for j in range(9):\n",
    "            if j not in range(col, col+3):\n",
    "                if (row, j) != arc[0][1]:\n",
    "                    queue.append((row,j), (row,col))\n",
    "        # Check the blocks\n",
    "        for i in range(row, row+3):\n",
    "            for j in range(col, col+3):\n",
    "                if i != row or j != col:\n",
    "                    if (i,j) != arc[0][1]:\n",
    "                        queue.append((i,j), (row,col))\n",
    "                                   \n",
    "\n",
    "    def is_solved(self):\n",
    "        '''check if it is solved, based on length'''\n",
    "        for cell in self.CELLS:\n",
    "            if len(self.board[cell]) != 1:\n",
    "                return False\n",
    "        return True\n",
    "    \n",
    "    def print_board(self):\n",
    "        # printing board for answer checking\n",
    "        for i in range(0,9):\n",
    "            result = []\n",
    "            for j in range(0,9):\n",
    "                result.extend(list(self.board[(i,j)]))\n",
    "            print(result)"
   ]
  },
  {
   "cell_type": "code",
   "execution_count": 4,
   "metadata": {},
   "outputs": [
    {
     "data": {
      "text/plain": [
       "{1, 2, 3, 4, 5, 6, 7, 8, 9}"
      ]
     },
     "execution_count": 4,
     "metadata": {},
     "output_type": "execute_result"
    }
   ],
   "source": [
    "# function read_board(path) and method get_values(self, cell)\n",
    "b = read_board(\"sudoku/medium1.txt\")\n",
    "Sudoku(b).get_values((0, 0))"
   ]
  },
  {
   "cell_type": "code",
   "execution_count": 5,
   "metadata": {},
   "outputs": [
    {
     "data": {
      "text/plain": [
       "{1}"
      ]
     },
     "execution_count": 5,
     "metadata": {},
     "output_type": "execute_result"
    }
   ],
   "source": [
    "b = read_board(\"sudoku/medium1.txt\")\n",
    "Sudoku(b).get_values((0, 1))"
   ]
  },
  {
   "cell_type": "markdown",
   "metadata": {},
   "source": [
    "**Part 2**\n",
    "\n",
    "Write a function `sudoku_cells()` that returns the list of all cells in a Sudoku puzzle as (row, column) pairs. The line `CELLS = sudoku_cells()` in the Sudoku class then creates a class-level constant `Sudoku.CELLS` that can be used wherever the full list of cells is needed. Although the function `sudoku_cells()` could still be called each time in its place, that approach results in a large amount of repeated computation and is therefore highly inefficient. The ordering of the cells within the list is not important, as long as they are all present. (For more information on the difference between class-level constants and fields of a class, see this [helpful guide](https://www.python-course.eu/python3_class_and_instance_attributes.php)).\n",
    "\n",
    "```python\n",
    ">>> sudoku_cells()\n",
    "[(0, 0), (0, 1), (0, 2), (0, 3), (0, 4), ..., (8, 5), (8, 6), (8, 7), (8, 8)]\n",
    "```"
   ]
  },
  {
   "cell_type": "code",
   "execution_count": 6,
   "metadata": {},
   "outputs": [
    {
     "data": {
      "text/plain": [
       "[(0, 0),\n",
       " (0, 1),\n",
       " (0, 2),\n",
       " (0, 3),\n",
       " (0, 4),\n",
       " (0, 5),\n",
       " (0, 6),\n",
       " (0, 7),\n",
       " (0, 8),\n",
       " (1, 0),\n",
       " (1, 1),\n",
       " (1, 2),\n",
       " (1, 3),\n",
       " (1, 4),\n",
       " (1, 5),\n",
       " (1, 6),\n",
       " (1, 7),\n",
       " (1, 8),\n",
       " (2, 0),\n",
       " (2, 1),\n",
       " (2, 2),\n",
       " (2, 3),\n",
       " (2, 4),\n",
       " (2, 5),\n",
       " (2, 6),\n",
       " (2, 7),\n",
       " (2, 8),\n",
       " (3, 0),\n",
       " (3, 1),\n",
       " (3, 2),\n",
       " (3, 3),\n",
       " (3, 4),\n",
       " (3, 5),\n",
       " (3, 6),\n",
       " (3, 7),\n",
       " (3, 8),\n",
       " (4, 0),\n",
       " (4, 1),\n",
       " (4, 2),\n",
       " (4, 3),\n",
       " (4, 4),\n",
       " (4, 5),\n",
       " (4, 6),\n",
       " (4, 7),\n",
       " (4, 8),\n",
       " (5, 0),\n",
       " (5, 1),\n",
       " (5, 2),\n",
       " (5, 3),\n",
       " (5, 4),\n",
       " (5, 5),\n",
       " (5, 6),\n",
       " (5, 7),\n",
       " (5, 8),\n",
       " (6, 0),\n",
       " (6, 1),\n",
       " (6, 2),\n",
       " (6, 3),\n",
       " (6, 4),\n",
       " (6, 5),\n",
       " (6, 6),\n",
       " (6, 7),\n",
       " (6, 8),\n",
       " (7, 0),\n",
       " (7, 1),\n",
       " (7, 2),\n",
       " (7, 3),\n",
       " (7, 4),\n",
       " (7, 5),\n",
       " (7, 6),\n",
       " (7, 7),\n",
       " (7, 8),\n",
       " (8, 0),\n",
       " (8, 1),\n",
       " (8, 2),\n",
       " (8, 3),\n",
       " (8, 4),\n",
       " (8, 5),\n",
       " (8, 6),\n",
       " (8, 7),\n",
       " (8, 8)]"
      ]
     },
     "execution_count": 6,
     "metadata": {},
     "output_type": "execute_result"
    }
   ],
   "source": [
    "# Check the function sudoku_cells()\n",
    "sudoku_cells()"
   ]
  },
  {
   "cell_type": "markdown",
   "metadata": {},
   "source": [
    "**Part 3**\n",
    "\n",
    "Write a function `sudoku_arcs()` that returns the list of all arcs between cells in a Sudoku puzzle corresponding to inequality constraints. In other words, each arc should be a pair of cells whose values cannot be equal in a solved puzzle. The arcs should be represented a two-tuples of cells, where cells themselves are (row, column) pairs. The line `ARCS = sudoku_arcs()` in the Sudoku class then creates a class-level constant `Sudoku.ARCS` that can be used wherever the full list of arcs is needed. The ordering of the arcs within the list is not important, as long as they are all present. Note that this is asking not for the arcs in a particular board, but all of the arcs that exist on an empty board.\n",
    "\n",
    "```python\n",
    ">>> ((0, 0), (0, 8)) in sudoku_arcs()\n",
    "True\n",
    ">>> ((0, 0), (8, 0)) in sudoku_arcs()\n",
    "True\n",
    ">>> ((0, 8), (0, 0)) in sudoku_arcs()\n",
    "True\n",
    ">>> ((0, 0), (2, 1)) in sudoku_arcs()\n",
    "True\n",
    ">>> ((2, 2), (0, 0)) in sudoku_arcs()\n",
    "True\n",
    ">>> ((2, 3), (0, 0)) in sudoku_arcs()\n",
    "False\n",
    "```"
   ]
  },
  {
   "cell_type": "code",
   "execution_count": 73,
   "metadata": {},
   "outputs": [
    {
     "data": {
      "text/plain": [
       "True"
      ]
     },
     "execution_count": 73,
     "metadata": {},
     "output_type": "execute_result"
    }
   ],
   "source": [
    "((0, 0), (0, 8)) in sudoku_arcs()"
   ]
  },
  {
   "cell_type": "code",
   "execution_count": 74,
   "metadata": {},
   "outputs": [
    {
     "data": {
      "text/plain": [
       "True"
      ]
     },
     "execution_count": 74,
     "metadata": {},
     "output_type": "execute_result"
    }
   ],
   "source": [
    "((0, 0), (8, 0)) in sudoku_arcs()"
   ]
  },
  {
   "cell_type": "code",
   "execution_count": 75,
   "metadata": {},
   "outputs": [
    {
     "data": {
      "text/plain": [
       "True"
      ]
     },
     "execution_count": 75,
     "metadata": {},
     "output_type": "execute_result"
    }
   ],
   "source": [
    "((0, 8), (0, 0)) in sudoku_arcs()"
   ]
  },
  {
   "cell_type": "code",
   "execution_count": 76,
   "metadata": {},
   "outputs": [
    {
     "data": {
      "text/plain": [
       "True"
      ]
     },
     "execution_count": 76,
     "metadata": {},
     "output_type": "execute_result"
    }
   ],
   "source": [
    "((0, 0), (2, 1)) in sudoku_arcs()"
   ]
  },
  {
   "cell_type": "code",
   "execution_count": 77,
   "metadata": {},
   "outputs": [
    {
     "data": {
      "text/plain": [
       "True"
      ]
     },
     "execution_count": 77,
     "metadata": {},
     "output_type": "execute_result"
    }
   ],
   "source": [
    "((2, 2), (0, 0)) in sudoku_arcs()"
   ]
  },
  {
   "cell_type": "code",
   "execution_count": 78,
   "metadata": {},
   "outputs": [
    {
     "data": {
      "text/plain": [
       "False"
      ]
     },
     "execution_count": 78,
     "metadata": {},
     "output_type": "execute_result"
    }
   ],
   "source": [
    "((2, 3), (0, 0)) in sudoku_arcs()"
   ]
  },
  {
   "cell_type": "markdown",
   "metadata": {},
   "source": [
    "**Part 4**\n",
    "\n",
    "In the Sudoku class, write a method `remove_inconsistent_values(self, cell1, cell2)` that removes any value in the set of possibilities for `cell1` for which there are no values in the set of possibilities for `cell2` satisfying the corresponding inequality constraint (which we have represented as an arc). Each cell argument will be a (row, column) pair. If any values were removed, return `True`; otherwise, return `False`. Note that this question is asking you both to change the class attributes (i.e., change the dictionary representing the board) and to return a boolean value - in Python one can do both in the same method!\n",
    "\n",
    "*Hint: Think carefully about what this exercise is asking you to implement. How many values can be removed during a single invocation of the function?*\n",
    "\n",
    "```python\n",
    ">>> sudoku = Sudoku(read_board(\"sudoku/easy.txt\")) # See below for a picture.\n",
    ">>> sudoku.get_values((0, 3))\n",
    "set([1, 2, 3, 4, 5, 6, 7, 8, 9])\n",
    ">>> for col in [0, 1, 4]:\n",
    "...     removed = sudoku.remove_inconsistent_values((0, 3), (0, col))\n",
    "...     print(removed, sudoku.get_values((0, 3)))\n",
    "...\n",
    "True set([1, 2, 3, 4, 5, 6, 7, 9])\n",
    "True set([1, 3, 4, 5, 6, 7, 9])\n",
    "False set([1, 3, 4, 5, 6, 7, 9])\n",
    "```"
   ]
  },
  {
   "cell_type": "code",
   "execution_count": 79,
   "metadata": {},
   "outputs": [],
   "source": [
    "sudoku = Sudoku(read_board(\"sudoku/easy.txt\")) # See below for a picture."
   ]
  },
  {
   "cell_type": "code",
   "execution_count": 80,
   "metadata": {},
   "outputs": [
    {
     "data": {
      "text/plain": [
       "{1, 2, 3, 4, 5, 6, 7, 8, 9}"
      ]
     },
     "execution_count": 80,
     "metadata": {},
     "output_type": "execute_result"
    }
   ],
   "source": [
    "sudoku.get_values((0, 3))"
   ]
  },
  {
   "cell_type": "code",
   "execution_count": 81,
   "metadata": {},
   "outputs": [
    {
     "name": "stdout",
     "output_type": "stream",
     "text": [
      "True {1, 2, 3, 4, 5, 6, 7, 9}\n",
      "True {1, 3, 4, 5, 6, 7, 9}\n",
      "False {1, 3, 4, 5, 6, 7, 9}\n"
     ]
    }
   ],
   "source": [
    "for col in [0, 1, 4]:\n",
    "    removed = sudoku.remove_inconsistent_values((0, 3), (0, col))\n",
    "    print(removed, sudoku.get_values((0, 3)))"
   ]
  },
  {
   "cell_type": "code",
   "execution_count": null,
   "metadata": {},
   "outputs": [],
   "source": []
  },
  {
   "cell_type": "markdown",
   "metadata": {},
   "source": [
    "**Part 5**\n",
    "\n",
    "In the Sudoku class, write a method `infer_ac3(self)` that runs the AC-3 algorithm on the current board to narrow down each cell’s set of values as much as possible (see lectures 5 and 6 and the book for details on this arc consistency algorithm). Although this will not be powerful enough to solve all Sudoku problems, it will produce a solution for easy-difficulty puzzles such the one in `easy.txt`. By “solution”, we mean that there will be exactly one element in each cell’s set of possible values, and that no inequality constraints will be violated.\n",
    "\n"
   ]
  },
  {
   "cell_type": "code",
   "execution_count": 67,
   "metadata": {},
   "outputs": [],
   "source": [
    "sudoku.infer_ac3()"
   ]
  },
  {
   "cell_type": "code",
   "execution_count": 68,
   "metadata": {},
   "outputs": [
    {
     "name": "stdout",
     "output_type": "stream",
     "text": [
      "[8, 2, 1, 1, 2, 3, 4, 5, 6, 7, 8, 9, 1, 2, 3, 4, 5, 6, 7, 8, 9, 1, 2, 3, 4, 5, 6, 7, 8, 9, 1, 2, 3, 4, 5, 6, 7, 8, 9, 1, 2, 3, 4, 5, 6, 7, 8, 9, 7]\n",
      "[1, 2, 3, 4, 5, 6, 7, 8, 9, 1, 2, 3, 4, 5, 6, 7, 8, 9, 1, 2, 3, 4, 5, 6, 7, 8, 9, 8, 1, 2, 3, 4, 5, 6, 7, 8, 9, 1, 2, 3, 4, 5, 6, 7, 8, 9, 1, 2, 3, 4, 5, 6, 7, 8, 9, 6, 1, 2, 3, 4, 5, 6, 7, 8, 9]\n",
      "[1, 2, 3, 4, 5, 6, 7, 8, 9, 6, 1, 2, 3, 4, 5, 6, 7, 8, 9, 9, 3, 1, 2, 3, 4, 5, 6, 7, 8, 9, 1, 2, 3, 4, 5, 6, 7, 8, 9, 1, 2, 3, 4, 5, 6, 7, 8, 9, 5]\n",
      "[1, 2, 3, 4, 5, 6, 7, 8, 9, 1, 2, 3, 4, 5, 6, 7, 8, 9, 8, 2, 1, 2, 3, 4, 5, 6, 7, 8, 9, 1, 6, 1, 2, 3, 4, 5, 6, 7, 8, 9, 1, 2, 3, 4, 5, 6, 7, 8, 9]\n",
      "[1, 2, 3, 4, 5, 6, 7, 8, 9, 1, 2, 3, 4, 5, 6, 7, 8, 9, 1, 2, 3, 4, 5, 6, 7, 8, 9, 7, 1, 2, 3, 4, 5, 6, 7, 8, 9, 1, 2, 3, 4, 5, 6, 7, 8, 9, 2, 8, 4]\n",
      "[2, 4, 1, 2, 3, 4, 5, 6, 7, 8, 9, 6, 1, 2, 3, 4, 5, 6, 7, 8, 9, 3, 7, 1, 2, 3, 4, 5, 6, 7, 8, 9, 1, 2, 3, 4, 5, 6, 7, 8, 9]\n",
      "[6, 1, 2, 3, 4, 5, 6, 7, 8, 9, 5, 1, 2, 3, 4, 5, 6, 7, 8, 9, 1, 2, 3, 4, 5, 6, 7, 8, 9, 1, 2, 3, 4, 5, 6, 7, 8, 9, 1, 1, 2, 3, 4, 5, 6, 7, 8, 9, 3]\n",
      "[1, 2, 3, 4, 5, 6, 7, 8, 9, 7, 1, 2, 3, 4, 5, 6, 7, 8, 9, 1, 2, 3, 4, 5, 6, 7, 8, 9, 5, 1, 2, 3, 4, 5, 6, 7, 8, 9, 1, 2, 3, 4, 5, 6, 7, 8, 9, 1, 2, 3, 4, 5, 6, 7, 8, 9, 1, 2, 3, 4, 5, 6, 7, 8, 9]\n",
      "[9, 1, 2, 1, 2, 3, 4, 5, 6, 7, 8, 9, 1, 2, 3, 4, 5, 6, 7, 8, 9, 1, 2, 3, 4, 5, 6, 7, 8, 9, 1, 2, 3, 4, 5, 6, 7, 8, 9, 1, 2, 3, 4, 5, 6, 7, 8, 9, 6]\n"
     ]
    }
   ],
   "source": [
    "sudoku.print_board()"
   ]
  },
  {
   "cell_type": "markdown",
   "metadata": {},
   "source": [
    "**Part 6: 6620 students only**\n",
    "\n",
    "Consider the outcome of running AC-3 on the medium-difficulty puzzle in `medium2.txt`. Although it is able to determine the values of some cells, it is unable to make significant headway on the rest.\n",
    "\n",
    "<img src=\"sudoku/ac3breaks.png\" width=\"20%\"/>\n",
    "\n",
    "However, if we consider the possible placements of the digit 7 in the upper-right block, we observe that the 7 in the third row and the 7 in the final column rule out all but one square, meaning we can safely place a 7 in the indicated cell despite AC-3 being unable to make such an inference.\n",
    "\n",
    "In the Sudoku class, write a method `infer_improved(self)` that runs this improved version of AC-3, using `infer_ac3(self)` as a subroutine (perhaps multiple times). You should consider what deductions can be made about a specific cell by examining the possible values for other cells in the same row, column, or block. Using this technique, you should be able to solve all of the medium-difficulty puzzles. Note that this goes beyond the typical AC3 approach because it involves constraints that relate more than 2 variables."
   ]
  },
  {
   "cell_type": "code",
   "execution_count": 7,
   "metadata": {},
   "outputs": [
    {
     "data": {
      "text/plain": [
       "<__main__.Sudoku at 0x7ff022ad6a58>"
      ]
     },
     "execution_count": 7,
     "metadata": {},
     "output_type": "execute_result"
    }
   ],
   "source": [
    "sudoku = Sudoku(read_board(\"sudoku/medium2.txt\")) # See below for a picture.\n",
    "sudoku.infer_improved()"
   ]
  },
  {
   "cell_type": "code",
   "execution_count": 10,
   "metadata": {},
   "outputs": [
    {
     "data": {
      "text/plain": [
       "True"
      ]
     },
     "execution_count": 10,
     "metadata": {},
     "output_type": "execute_result"
    }
   ],
   "source": [
    "sudoku.is_solved()"
   ]
  },
  {
   "cell_type": "markdown",
   "metadata": {},
   "source": [
    "**Part 7 (all students)**\n",
    "\n",
    "The algorithms from parts 5 and 6 are still not powerful enough to solve all Sudoku problems. Describe in words an improvement to the approaches above that will allow you to do this.\n"
   ]
  },
  {
   "cell_type": "markdown",
   "metadata": {},
   "source": [
    "**Enter your answer here**\n",
    "We can look at pairs or triples of cells within a row, column, or block. Then find that a pair of cells has only two options of entries, but don't know which goes where. What we can still gain from this observation is that those pair of numbers cannot occur anywhere else in the neighborhood. This will decrease the number of possibilities for the other cells in the neighborhood and help us get closer to a solution. Similarly, a triple of cells having only three possibilities of entries between them will eliminate these entries in all other cells in a neighborhood of this triple."
   ]
  },
  {
   "cell_type": "code",
   "execution_count": null,
   "metadata": {},
   "outputs": [],
   "source": []
  }
 ],
 "metadata": {
  "kernelspec": {
   "display_name": "Python 3",
   "language": "python",
   "name": "python3"
  },
  "language_info": {
   "codemirror_mode": {
    "name": "ipython",
    "version": 3
   },
   "file_extension": ".py",
   "mimetype": "text/x-python",
   "name": "python",
   "nbconvert_exporter": "python",
   "pygments_lexer": "ipython3",
   "version": "3.7.1"
  }
 },
 "nbformat": 4,
 "nbformat_minor": 5
}
